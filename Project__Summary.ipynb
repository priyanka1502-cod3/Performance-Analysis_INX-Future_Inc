{
  "nbformat": 4,
  "nbformat_minor": 0,
  "metadata": {
    "colab": {
      "provenance": []
    },
    "kernelspec": {
      "name": "python3",
      "display_name": "Python 3"
    },
    "language_info": {
      "name": "python"
    }
  },
  "cells": [
    {
      "cell_type": "markdown",
      "source": [
        "# Project Summary Notebook\n",
        "\n",
        "# Top-Level Summary of the Project\n",
        "\n",
        "The objective of this project is to evaluate employee performance across various departments within INX Future Inc.\n",
        "The project uses machine learning models, namely Random Forest and Gradient Boosting, to identify the key factors  that affect employee performance, enabling data-driven decisions to improve employee satisfaction, retention, and\n",
        "overall performance.\n",
        "\n",
        "The analysis is department-specific, covering Sales, Human Resources, Development, Data Science, Research &\n",
        "Development, and Finance.\n",
        "\n",
        "\n",
        "### Goals\n",
        "\n",
        "\n",
        "- **Goal 1: Department wise performances**: Predict employee performance (PerformanceRating) for each department based\n",
        "on various factors such as job satisfaction, salary hikes, experience, and promotions.\n",
        "  \n",
        "- **Goal 2: Top 3 Important Factors affecting employee performance**: Identify the most important features that contribute to employee performance\n",
        "in each department to help the management focus on key drivers of performance.\n",
        "\n",
        "- **Goal 3: A trained model which can predict the employee performance based on factors as inputs. This will be used to hire employees**: Conduct a department-specific analysis to uncover unique trends or\n",
        "differences between departments in terms of employee performance and the factors influencing it.\n",
        "\n",
        "- **Goal 4: Recommendations to improve the employee performance based on insights from analysis**: Compare the performance of two machine learning models, Random Forest and\n",
        "Gradient Boosting, to determine the more accurate model for predicting employee performance.\n",
        "\n",
        "\n"
      ],
      "metadata": {
        "id": "xx0lmGk5xh7X"
      }
    },
    {
      "cell_type": "markdown",
      "source": [
        "#1.  Requirement\n",
        "\n",
        "- **Data**: The data was given from the IABAC for this project where the collected source is IABAC. The data is based on INX Future Inc, (referred as INX ). It is one of the leading data analytics and automation solutions provider with over 15 years of global business presence. The data is not from the real organization. The whole project was done in Jupiter notebook with python platform.\n",
        "\n"
      ],
      "metadata": {
        "id": "JIMxNmNOzL3U"
      }
    },
    {
      "cell_type": "markdown",
      "source": [
        "# 2. Analysis\n",
        "\n",
        "\n",
        "### 1. Data Preprocessing:\n",
        "- **Categorical Encoding**: One-hot encoding was applied to categorical variables to prepare them for machine\n",
        "learning algorithms.\n",
        "- **Department Segmentation**: The data was segmented based on the 'EmpDepartment' feature to analyze employee\n",
        "performance by department.\n",
        "\n",
        "### 2. Model Selection:\n",
        "Two machine learning models were used:\n",
        "   1. **Random Forest**: A robust, ensemble learning algorithm that uses decision trees to handle large and\n",
        "complex datasets.\n",
        "   2. **Gradient Boosting**: A boosting algorithm known for its ability to minimize bias and variance, often\n",
        "yielding superior results on structured data.\n",
        "   \n",
        "Both models were trained and evaluated for each department using a train-test split of 75% and 25%, respectively.\n",
        "\n",
        "### 3. Model Performance:\n",
        "- **Accuracy**: Gradient Boosting outperformed Random Forest across most departments.\n",
        "- **Feature Importance**: The top features influencing employee performance were identified for each department.\n",
        "\n",
        "\n"
      ],
      "metadata": {
        "id": "3EmPW8CEzk4g"
      }
    },
    {
      "cell_type": "markdown",
      "source": [
        "# 3. Summary\n",
        "\n",
        "This project evaluates employee performance across six departments (Sales, Human Resources, Development, Data Science, Research & Development, and Finance) using Random Forest and Gradient Boosting algorithms. The analysis reveals  department-specific factors that impact employee performance, including salary hikes, promotions, and job satisfaction.\n",
        "\n",
        "### Key Insights:\n",
        "\n",
        "1. **Gradient Boosting** consistently delivered higher accuracy, with the highest performance in Development (95.60%) and Research & Development (95.35%).\n",
        "\n",
        "**Goal 1: Department-wise Performance**\n",
        "The performance rating distribution and key observations for each department are as follows:\n",
        "\n",
        "- **Sales**: Performance rating level 3 is the most common. Male employees tend to have slightly higher performance ratings compared to females. Interestingly, total work experience does not have a significant impact on performance.\n",
        "  \n",
        "- **Human Resources**: Most employees fall under performance level 3. Older employees tend to perform lower, while female employees show higher performance levels. Total work experience influences performance significantly in this department.\n",
        "\n",
        "- **Development**: Like Sales and HR, level 3 performance is the most prevalent. Performance does not vary much by age, and gender-based performance is similar for both males and females.\n",
        "\n",
        "- **Data Science**: The Data Science department has the highest average performance, with fewer level 2 performers compared to other departments. Age does not significantly influence performance, but male employees tend to perform better. Work experience is an important factor in performance here.\n",
        "\n",
        "- **Research & Development**: Employees of all ages perform similarly. Female employees show strong performance, and work experience plays a role in performance levels.\n",
        "\n",
        "- **Finance**: Performance decreases as age increases. Male employees perform better than females, and work experience is inversely related to performance—more experienced employees tend to perform lower.\n",
        "\n",
        "**Goal 2: Top 3 Important Factors Affecting Employee Performance**\n",
        "\n",
        "Using the **Random Forest** and **Gradient Boosting** classifiers, feature importance was assessed to determine the most influential factors affecting employee performance. The top three factors across departments were:\n",
        "\n",
        "1. Employee Environment Satisfaction\n",
        "2. Employee Salary Hike Percentage\n",
        "3. Years Since Last Promotion\n",
        "\n",
        "**Goal 3: A Trained Model to Predict Employee Performance**\n",
        "\n",
        "Two machine learning models were trained to predict employee performance based on input features:\n",
        "\n",
        "- **Random Forest Classifier**: Achieved an accuracy of **92%**.\n",
        "- **Gradient Boosting Classifier**: Achieved an accuracy of **93%**.\n",
        "\n",
        "Both models performed well, with Gradient Boosting slightly outperforming Random Forest in accuracy. These models can be used to predict the future performance of new hires based on their initial characteristics, helping the company make more informed hiring decisions.\n",
        "\n",
        "**Goal 4: Recommendations to Improve Employee Performance**\n",
        "\n",
        "Based on the analysis and insights, the following recommendations are made to improve employee performance:\n",
        "\n",
        "1. **Focus on Employee Environment Satisfaction**: Employee satisfaction with the work environment is the most important factor for performance. The company should invest in creating a positive, supportive work environment.\n",
        "   \n",
        "2. **Increase Salary Hikes**: Salary increments significantly impact performance both financially and psychologically. Regular reviews and adjustments can motivate employees to perform better.\n",
        "\n",
        "3. **Offer More Promotion Opportunities**: Promotion prospects allow employees to take on more responsibility and develop leadership qualities, which in turn boosts performance.\n",
        "\n",
        "4. **Reassess Experience Requirements for New Hires**: In departments like Finance, extensive work experience is negatively correlated with performance. The company should consider revising experience requirements during hiring to ensure optimal performance.\n",
        "\n",
        "5. **Enhance Work-Life Balance**: The performance rating is also influenced by an employee’s work-life balance, particularly in departments like Development and Data Science. Flexible work arrangements and policies could help maintain high levels of performance.\n",
        "\n",
        "6. **Consider Hiring More Female Candidates in HR**: Female employees in the HR department consistently outperform their male counterparts. The company should emphasize recruiting more women in this department.\n",
        "\n",
        "7. **Leverage Strengths in Development and Data Science**: These departments show overall higher performance compared to others. Continued investment in these areas will ensure sustained high productivity and growth for the company.\n",
        "\n",
        "By implementing these recommendations, the company can foster an environment that encourages better performance across all departments and ensures the continued success of its workforce.\n",
        "\n",
        "\n",
        "    \n",
        "\n",
        "\n"
      ],
      "metadata": {
        "id": "tBqKSexE0DXK"
      }
    }
  ]
}